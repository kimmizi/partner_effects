{
 "cells": [
  {
   "cell_type": "markdown",
   "id": "c6f62c52",
   "metadata": {},
   "source": "# Import Data"
  },
  {
   "cell_type": "code",
   "id": "21043d2c",
   "metadata": {
    "ExecuteTime": {
     "end_time": "2024-10-16T20:18:22.147966Z",
     "start_time": "2024-10-16T20:18:22.142088Z"
    }
   },
   "source": [
    "import pandas as pd\n",
    "import numpy as np\n",
    "import scipy.stats as stats\n",
    "import matplotlib.pyplot as plt\n",
    "from sklearn.impute import SimpleImputer\n",
    "from sklearn.metrics import make_scorer, cohen_kappa_score\n",
    "from sklearn.ensemble import RandomForestRegressor\n",
    "from sklearn.linear_model import Lasso\n",
    "from sklearn.model_selection import cross_val_score, GridSearchCV\n",
    "from sklearn.feature_selection import RFECV\n",
    "from scipy.stats import ttest_ind, ttest_1samp"
   ],
   "outputs": [],
   "execution_count": 6
  },
  {
   "cell_type": "code",
   "id": "eb287d6c",
   "metadata": {
    "ExecuteTime": {
     "end_time": "2024-10-16T20:18:22.487152Z",
     "start_time": "2024-10-16T20:18:22.410990Z"
    }
   },
   "source": [
    "# read data\n",
    "df_outcomes = pd.read_csv(\"../dat/nsds_II_outcomes_level1_AAK.csv\")\n",
    "df_predictors = pd.read_csv(\"../dat/nsds_II_predictors_level1.csv\")"
   ],
   "outputs": [],
   "execution_count": 7
  },
  {
   "metadata": {
    "ExecuteTime": {
     "end_time": "2024-10-16T20:22:39.750696Z",
     "start_time": "2024-10-16T20:22:39.635886Z"
    }
   },
   "cell_type": "code",
   "source": [
    "# read data for flirting\n",
    "rating_m1 = pd.read_excel(\"../dat/Ratings_m1.xlsx\")\n",
    "rating_m2 = pd.read_excel(\"../dat/Ratings_m2.xlsx\")\n",
    "rating_w1 = pd.read_excel(\"../dat/Ratings_w1.xlsx\")\n",
    "rating_w2 = pd.read_excel(\"../dat/Ratings_w2.xlsx\")\n",
    "matching = pd.read_excel(\"../dat/matching.xlsx\")"
   ],
   "id": "e4e67a8090ec4767",
   "outputs": [
    {
     "ename": "ImportError",
     "evalue": "Missing optional dependency 'openpyxl'.  Use pip or conda to install openpyxl.",
     "output_type": "error",
     "traceback": [
      "\u001B[0;31m---------------------------------------------------------------------------\u001B[0m",
      "\u001B[0;31mModuleNotFoundError\u001B[0m                       Traceback (most recent call last)",
      "File \u001B[0;32m~/PycharmProjects/partner_effects/.venv/lib/python3.9/site-packages/pandas/compat/_optional.py:142\u001B[0m, in \u001B[0;36mimport_optional_dependency\u001B[0;34m(name, extra, errors, min_version)\u001B[0m\n\u001B[1;32m    141\u001B[0m \u001B[38;5;28;01mtry\u001B[39;00m:\n\u001B[0;32m--> 142\u001B[0m     module \u001B[38;5;241m=\u001B[39m \u001B[43mimportlib\u001B[49m\u001B[38;5;241;43m.\u001B[39;49m\u001B[43mimport_module\u001B[49m\u001B[43m(\u001B[49m\u001B[43mname\u001B[49m\u001B[43m)\u001B[49m\n\u001B[1;32m    143\u001B[0m \u001B[38;5;28;01mexcept\u001B[39;00m \u001B[38;5;167;01mImportError\u001B[39;00m:\n",
      "File \u001B[0;32m/Library/Developer/CommandLineTools/Library/Frameworks/Python3.framework/Versions/3.9/lib/python3.9/importlib/__init__.py:127\u001B[0m, in \u001B[0;36mimport_module\u001B[0;34m(name, package)\u001B[0m\n\u001B[1;32m    126\u001B[0m         level \u001B[38;5;241m+\u001B[39m\u001B[38;5;241m=\u001B[39m \u001B[38;5;241m1\u001B[39m\n\u001B[0;32m--> 127\u001B[0m \u001B[38;5;28;01mreturn\u001B[39;00m \u001B[43m_bootstrap\u001B[49m\u001B[38;5;241;43m.\u001B[39;49m\u001B[43m_gcd_import\u001B[49m\u001B[43m(\u001B[49m\u001B[43mname\u001B[49m\u001B[43m[\u001B[49m\u001B[43mlevel\u001B[49m\u001B[43m:\u001B[49m\u001B[43m]\u001B[49m\u001B[43m,\u001B[49m\u001B[43m \u001B[49m\u001B[43mpackage\u001B[49m\u001B[43m,\u001B[49m\u001B[43m \u001B[49m\u001B[43mlevel\u001B[49m\u001B[43m)\u001B[49m\n",
      "File \u001B[0;32m<frozen importlib._bootstrap>:1030\u001B[0m, in \u001B[0;36m_gcd_import\u001B[0;34m(name, package, level)\u001B[0m\n",
      "File \u001B[0;32m<frozen importlib._bootstrap>:1007\u001B[0m, in \u001B[0;36m_find_and_load\u001B[0;34m(name, import_)\u001B[0m\n",
      "File \u001B[0;32m<frozen importlib._bootstrap>:984\u001B[0m, in \u001B[0;36m_find_and_load_unlocked\u001B[0;34m(name, import_)\u001B[0m\n",
      "\u001B[0;31mModuleNotFoundError\u001B[0m: No module named 'openpyxl'",
      "\nDuring handling of the above exception, another exception occurred:\n",
      "\u001B[0;31mImportError\u001B[0m                               Traceback (most recent call last)",
      "Cell \u001B[0;32mIn[16], line 2\u001B[0m\n\u001B[1;32m      1\u001B[0m \u001B[38;5;66;03m# read data for flirting\u001B[39;00m\n\u001B[0;32m----> 2\u001B[0m rating_m1 \u001B[38;5;241m=\u001B[39m \u001B[43mpd\u001B[49m\u001B[38;5;241;43m.\u001B[39;49m\u001B[43mread_excel\u001B[49m\u001B[43m(\u001B[49m\u001B[38;5;124;43m\"\u001B[39;49m\u001B[38;5;124;43m../dat/Ratings_m1.xlsx\u001B[39;49m\u001B[38;5;124;43m\"\u001B[39;49m\u001B[43m)\u001B[49m\n\u001B[1;32m      3\u001B[0m rating_m2 \u001B[38;5;241m=\u001B[39m pd\u001B[38;5;241m.\u001B[39mread_excel(\u001B[38;5;124m\"\u001B[39m\u001B[38;5;124m../dat/Ratings_m2.xlsx\u001B[39m\u001B[38;5;124m\"\u001B[39m)\n\u001B[1;32m      4\u001B[0m rating_w1 \u001B[38;5;241m=\u001B[39m pd\u001B[38;5;241m.\u001B[39mread_excel(\u001B[38;5;124m\"\u001B[39m\u001B[38;5;124m../dat/Ratings_w1.xlsx\u001B[39m\u001B[38;5;124m\"\u001B[39m)\n",
      "File \u001B[0;32m~/PycharmProjects/partner_effects/.venv/lib/python3.9/site-packages/pandas/io/excel/_base.py:478\u001B[0m, in \u001B[0;36mread_excel\u001B[0;34m(io, sheet_name, header, names, index_col, usecols, dtype, engine, converters, true_values, false_values, skiprows, nrows, na_values, keep_default_na, na_filter, verbose, parse_dates, date_parser, date_format, thousands, decimal, comment, skipfooter, storage_options, dtype_backend)\u001B[0m\n\u001B[1;32m    476\u001B[0m \u001B[38;5;28;01mif\u001B[39;00m \u001B[38;5;129;01mnot\u001B[39;00m \u001B[38;5;28misinstance\u001B[39m(io, ExcelFile):\n\u001B[1;32m    477\u001B[0m     should_close \u001B[38;5;241m=\u001B[39m \u001B[38;5;28;01mTrue\u001B[39;00m\n\u001B[0;32m--> 478\u001B[0m     io \u001B[38;5;241m=\u001B[39m \u001B[43mExcelFile\u001B[49m\u001B[43m(\u001B[49m\u001B[43mio\u001B[49m\u001B[43m,\u001B[49m\u001B[43m \u001B[49m\u001B[43mstorage_options\u001B[49m\u001B[38;5;241;43m=\u001B[39;49m\u001B[43mstorage_options\u001B[49m\u001B[43m,\u001B[49m\u001B[43m \u001B[49m\u001B[43mengine\u001B[49m\u001B[38;5;241;43m=\u001B[39;49m\u001B[43mengine\u001B[49m\u001B[43m)\u001B[49m\n\u001B[1;32m    479\u001B[0m \u001B[38;5;28;01melif\u001B[39;00m engine \u001B[38;5;129;01mand\u001B[39;00m engine \u001B[38;5;241m!=\u001B[39m io\u001B[38;5;241m.\u001B[39mengine:\n\u001B[1;32m    480\u001B[0m     \u001B[38;5;28;01mraise\u001B[39;00m \u001B[38;5;167;01mValueError\u001B[39;00m(\n\u001B[1;32m    481\u001B[0m         \u001B[38;5;124m\"\u001B[39m\u001B[38;5;124mEngine should not be specified when passing \u001B[39m\u001B[38;5;124m\"\u001B[39m\n\u001B[1;32m    482\u001B[0m         \u001B[38;5;124m\"\u001B[39m\u001B[38;5;124man ExcelFile - ExcelFile already has the engine set\u001B[39m\u001B[38;5;124m\"\u001B[39m\n\u001B[1;32m    483\u001B[0m     )\n",
      "File \u001B[0;32m~/PycharmProjects/partner_effects/.venv/lib/python3.9/site-packages/pandas/io/excel/_base.py:1513\u001B[0m, in \u001B[0;36mExcelFile.__init__\u001B[0;34m(self, path_or_buffer, engine, storage_options)\u001B[0m\n\u001B[1;32m   1510\u001B[0m \u001B[38;5;28mself\u001B[39m\u001B[38;5;241m.\u001B[39mengine \u001B[38;5;241m=\u001B[39m engine\n\u001B[1;32m   1511\u001B[0m \u001B[38;5;28mself\u001B[39m\u001B[38;5;241m.\u001B[39mstorage_options \u001B[38;5;241m=\u001B[39m storage_options\n\u001B[0;32m-> 1513\u001B[0m \u001B[38;5;28mself\u001B[39m\u001B[38;5;241m.\u001B[39m_reader \u001B[38;5;241m=\u001B[39m \u001B[38;5;28;43mself\u001B[39;49m\u001B[38;5;241;43m.\u001B[39;49m\u001B[43m_engines\u001B[49m\u001B[43m[\u001B[49m\u001B[43mengine\u001B[49m\u001B[43m]\u001B[49m\u001B[43m(\u001B[49m\u001B[38;5;28;43mself\u001B[39;49m\u001B[38;5;241;43m.\u001B[39;49m\u001B[43m_io\u001B[49m\u001B[43m,\u001B[49m\u001B[43m \u001B[49m\u001B[43mstorage_options\u001B[49m\u001B[38;5;241;43m=\u001B[39;49m\u001B[43mstorage_options\u001B[49m\u001B[43m)\u001B[49m\n",
      "File \u001B[0;32m~/PycharmProjects/partner_effects/.venv/lib/python3.9/site-packages/pandas/io/excel/_openpyxl.py:548\u001B[0m, in \u001B[0;36mOpenpyxlReader.__init__\u001B[0;34m(self, filepath_or_buffer, storage_options)\u001B[0m\n\u001B[1;32m    533\u001B[0m \u001B[38;5;129m@doc\u001B[39m(storage_options\u001B[38;5;241m=\u001B[39m_shared_docs[\u001B[38;5;124m\"\u001B[39m\u001B[38;5;124mstorage_options\u001B[39m\u001B[38;5;124m\"\u001B[39m])\n\u001B[1;32m    534\u001B[0m \u001B[38;5;28;01mdef\u001B[39;00m \u001B[38;5;21m__init__\u001B[39m(\n\u001B[1;32m    535\u001B[0m     \u001B[38;5;28mself\u001B[39m,\n\u001B[1;32m    536\u001B[0m     filepath_or_buffer: FilePath \u001B[38;5;241m|\u001B[39m ReadBuffer[\u001B[38;5;28mbytes\u001B[39m],\n\u001B[1;32m    537\u001B[0m     storage_options: StorageOptions \u001B[38;5;241m=\u001B[39m \u001B[38;5;28;01mNone\u001B[39;00m,\n\u001B[1;32m    538\u001B[0m ) \u001B[38;5;241m-\u001B[39m\u001B[38;5;241m>\u001B[39m \u001B[38;5;28;01mNone\u001B[39;00m:\n\u001B[1;32m    539\u001B[0m \u001B[38;5;250m    \u001B[39m\u001B[38;5;124;03m\"\"\"\u001B[39;00m\n\u001B[1;32m    540\u001B[0m \u001B[38;5;124;03m    Reader using openpyxl engine.\u001B[39;00m\n\u001B[1;32m    541\u001B[0m \n\u001B[0;32m   (...)\u001B[0m\n\u001B[1;32m    546\u001B[0m \u001B[38;5;124;03m    {storage_options}\u001B[39;00m\n\u001B[1;32m    547\u001B[0m \u001B[38;5;124;03m    \"\"\"\u001B[39;00m\n\u001B[0;32m--> 548\u001B[0m     \u001B[43mimport_optional_dependency\u001B[49m\u001B[43m(\u001B[49m\u001B[38;5;124;43m\"\u001B[39;49m\u001B[38;5;124;43mopenpyxl\u001B[39;49m\u001B[38;5;124;43m\"\u001B[39;49m\u001B[43m)\u001B[49m\n\u001B[1;32m    549\u001B[0m     \u001B[38;5;28msuper\u001B[39m()\u001B[38;5;241m.\u001B[39m\u001B[38;5;21m__init__\u001B[39m(filepath_or_buffer, storage_options\u001B[38;5;241m=\u001B[39mstorage_options)\n",
      "File \u001B[0;32m~/PycharmProjects/partner_effects/.venv/lib/python3.9/site-packages/pandas/compat/_optional.py:145\u001B[0m, in \u001B[0;36mimport_optional_dependency\u001B[0;34m(name, extra, errors, min_version)\u001B[0m\n\u001B[1;32m    143\u001B[0m \u001B[38;5;28;01mexcept\u001B[39;00m \u001B[38;5;167;01mImportError\u001B[39;00m:\n\u001B[1;32m    144\u001B[0m     \u001B[38;5;28;01mif\u001B[39;00m errors \u001B[38;5;241m==\u001B[39m \u001B[38;5;124m\"\u001B[39m\u001B[38;5;124mraise\u001B[39m\u001B[38;5;124m\"\u001B[39m:\n\u001B[0;32m--> 145\u001B[0m         \u001B[38;5;28;01mraise\u001B[39;00m \u001B[38;5;167;01mImportError\u001B[39;00m(msg)\n\u001B[1;32m    146\u001B[0m     \u001B[38;5;28;01mreturn\u001B[39;00m \u001B[38;5;28;01mNone\u001B[39;00m\n\u001B[1;32m    148\u001B[0m \u001B[38;5;66;03m# Handle submodules: if we have submodule, grab parent module from sys.modules\u001B[39;00m\n",
      "\u001B[0;31mImportError\u001B[0m: Missing optional dependency 'openpyxl'.  Use pip or conda to install openpyxl."
     ]
    }
   ],
   "execution_count": 16
  },
  {
   "metadata": {},
   "cell_type": "markdown",
   "source": "",
   "id": "261391857d7f66ff"
  },
  {
   "cell_type": "markdown",
   "id": "c135ef0c",
   "metadata": {},
   "source": "# Clean Data"
  },
  {
   "metadata": {},
   "cell_type": "markdown",
   "source": "## Outcomes",
   "id": "d0db9e2152ffcb38"
  },
  {
   "cell_type": "code",
   "id": "682358fb",
   "metadata": {
    "scrolled": true,
    "ExecuteTime": {
     "end_time": "2024-10-16T20:20:08.028643Z",
     "start_time": "2024-10-16T20:20:08.000062Z"
    }
   },
   "source": [
    "# drop unnecessary columns in outcome dataset\n",
    "\n",
    "df_outcomes = df_outcomes.drop([\"id\", \"gender_of_id\", \"st_raw\", \"lt_raw\", \"Unnamed: 0\"], axis = 1)\n",
    "\n",
    "print(df_outcomes.describe())\n",
    "print(\"\\n\")\n",
    "\n",
    "\n",
    "# create new dataset with calculated partner score as dependent variable\n",
    "\n",
    "mean_gr = df_outcomes[\"general_raw\"].mean()\n",
    "\n",
    "\n",
    "outcomes = df_outcomes.groupby(\"partnerid\").mean() - mean_gr\n",
    "outcomes.columns = [\"partner_score\"]\n",
    "outcomes = outcomes.drop(219)\n",
    "\n",
    "\n",
    "# convert outcome datasets into 1D-arrays\n",
    "outcomes = np.array(outcomes).ravel()\n"
   ],
   "outputs": [
    {
     "name": "stdout",
     "output_type": "stream",
     "text": [
      "         partnerid  general_raw\n",
      "count  2171.000000  2171.000000\n",
      "mean    181.893137     4.935130\n",
      "std     121.011580     1.901438\n",
      "min       7.000000     1.000000\n",
      "25%      69.000000     3.666667\n",
      "50%     171.000000     5.000000\n",
      "75%     281.000000     6.333333\n",
      "max     433.000000     9.000000\n",
      "\n",
      "\n"
     ]
    }
   ],
   "execution_count": 10
  },
  {
   "cell_type": "markdown",
   "id": "a4146284",
   "metadata": {},
   "source": [
    " "
   ]
  },
  {
   "cell_type": "markdown",
   "id": "510cbe26",
   "metadata": {},
   "source": "## Predictors"
  },
  {
   "metadata": {},
   "cell_type": "markdown",
   "source": "### Self-Reports",
   "id": "5be29d4b92f2d5e5"
  },
  {
   "cell_type": "code",
   "id": "63bfd60e",
   "metadata": {
    "ExecuteTime": {
     "end_time": "2024-10-16T20:20:11.146754Z",
     "start_time": "2024-10-16T20:20:09.710815Z"
    }
   },
   "source": [
    "# delete _par-variables, fill NA-values in predictors dataset\n",
    "\n",
    "imputer = SimpleImputer(strategy = \"mean\", missing_values = np.nan)\n",
    "\n",
    "for column in df_predictors:\n",
    "    if column != \"gender_id\":\n",
    "        imputer = imputer.fit(df_predictors[[column]])\n",
    "        df_predictors[column] = imputer.transform(df_predictors[[column]])\n",
    "    if column.endswith(\"_par\"):\n",
    "        df_predictors = df_predictors.drop(columns = column)"
   ],
   "outputs": [],
   "execution_count": 11
  },
  {
   "cell_type": "code",
   "id": "b77481be",
   "metadata": {
    "scrolled": false,
    "ExecuteTime": {
     "end_time": "2024-10-16T20:20:11.170723Z",
     "start_time": "2024-10-16T20:20:11.152325Z"
    }
   },
   "source": [
    "# new dataset with calculated mean for att_rating_act\n",
    "\n",
    "df_predictors = df_predictors.drop([\"partnerid\", \"gender_id\"], axis = 1)\n",
    "predictors = df_predictors.groupby(\"id\").mean()"
   ],
   "outputs": [],
   "execution_count": 12
  },
  {
   "metadata": {},
   "cell_type": "markdown",
   "source": "### Flirting",
   "id": "cbf983d903fca9f4"
  },
  {
   "metadata": {},
   "cell_type": "markdown",
   "source": "Create a new predictors dataset with self-reports AND flirting ratings:",
   "id": "2077802dc5a2943a"
  },
  {
   "metadata": {
    "ExecuteTime": {
     "end_time": "2024-10-16T20:20:12.024963Z",
     "start_time": "2024-10-16T20:20:11.969248Z"
    }
   },
   "cell_type": "code",
   "source": [
    "# interrater correlation\n",
    "\n",
    "print(\"rating_m1\")\n",
    "print(\"F_gen:\", np.corrcoef(rating_m1.loc[rating_m1[\"Rater\"] == \"R_m1_1\"][\"F_gen\"], rating_m1.loc[rating_m1[\"Rater\"] == \"R_m1_2\"][\"F_gen\"]).ravel()[1])\n",
    "print(\"F_ag:\", np.corrcoef(rating_m1.loc[rating_m1[\"Rater\"] == \"R_m1_1\"][\"F_ag\"], rating_m1.loc[rating_m1[\"Rater\"] == \"R_m1_2\"][\"F_ag\"]).ravel()[1])\n",
    "print(\"F_com:\", np.corrcoef(rating_m1.loc[rating_m1[\"Rater\"] == \"R_m1_1\"][\"F_com\"], rating_m1.loc[rating_m1[\"Rater\"] == \"R_m1_2\"][\"F_com\"]).ravel()[1])\n",
    "print(\"\\n\")\n",
    "print(\"rating_m2\")\n",
    "print(\"F_gen:\", np.corrcoef(rating_m2.loc[rating_m2[\"Rater\"] == \"R_m2_1\"][\"F_gen\"], rating_m2.loc[rating_m2[\"Rater\"] == \"R_m2_2\"][\"F_gen\"]).ravel()[1])\n",
    "print(\"F_ag:\", np.corrcoef(rating_m2.loc[rating_m2[\"Rater\"] == \"R_m2_1\"][\"F_ag\"], rating_m2.loc[rating_m2[\"Rater\"] == \"R_m2_2\"][\"F_ag\"]).ravel()[1])\n",
    "print(\"F_com:\", np.corrcoef(rating_m2.loc[rating_m2[\"Rater\"] == \"R_m2_1\"][\"F_com\"], rating_m2.loc[rating_m2[\"Rater\"] == \"R_m2_2\"][\"F_com\"]).ravel()[1])\n",
    "print(\"\\n\")\n",
    "print(\"rating_w1\")\n",
    "print(\"F_gen:\", np.corrcoef(rating_w1.loc[rating_w1[\"Rater\"] == \"R_w1_1\"][\"F_gen\"], rating_w1.loc[rating_w1[\"Rater\"] == \"R_w1_2\"][\"F_gen\"]).ravel()[1])\n",
    "print(\"F_ag:\", np.corrcoef(rating_w1.loc[rating_w1[\"Rater\"] == \"R_w1_1\"][\"F_ag\"], rating_w1.loc[rating_w1[\"Rater\"] == \"R_w1_2\"][\"F_ag\"]).ravel()[1])\n",
    "print(\"F_com:\", np.corrcoef(rating_w1.loc[rating_w1[\"Rater\"] == \"R_w1_1\"][\"F_com\"], rating_w1.loc[rating_w1[\"Rater\"] == \"R_w1_2\"][\"F_com\"]).ravel()[1])\n",
    "print(\"\\n\")\n",
    "print(\"rating_w2\")\n",
    "print(\"F_gen:\", np.corrcoef(rating_w2.loc[rating_w2[\"Rater\"] == \"R_w2_1\"][\"F_gen\"], rating_w2.loc[rating_w2[\"Rater\"] == \"R_w2_2\"][\"F_gen\"]).ravel()[1])\n",
    "print(\"F_ag:\", np.corrcoef(rating_w2.loc[rating_w2[\"Rater\"] == \"R_w2_1\"][\"F_ag\"], rating_w2.loc[rating_w2[\"Rater\"] == \"R_w2_2\"][\"F_ag\"]).ravel()[1])\n",
    "print(\"F_com:\", np.corrcoef(rating_w2.loc[rating_w2[\"Rater\"] == \"R_w2_1\"][\"F_com\"], rating_w2.loc[rating_w2[\"Rater\"] == \"R_w2_2\"][\"F_com\"]).ravel()[1])\n"
   ],
   "id": "af77313c23d1ac29",
   "outputs": [
    {
     "name": "stdout",
     "output_type": "stream",
     "text": [
      "rating_m1\n"
     ]
    },
    {
     "ename": "NameError",
     "evalue": "name 'rating_m1' is not defined",
     "output_type": "error",
     "traceback": [
      "\u001B[0;31m---------------------------------------------------------------------------\u001B[0m",
      "\u001B[0;31mNameError\u001B[0m                                 Traceback (most recent call last)",
      "Cell \u001B[0;32mIn[13], line 4\u001B[0m\n\u001B[1;32m      1\u001B[0m \u001B[38;5;66;03m# interrater correlation\u001B[39;00m\n\u001B[1;32m      3\u001B[0m \u001B[38;5;28mprint\u001B[39m(\u001B[38;5;124m\"\u001B[39m\u001B[38;5;124mrating_m1\u001B[39m\u001B[38;5;124m\"\u001B[39m)\n\u001B[0;32m----> 4\u001B[0m \u001B[38;5;28mprint\u001B[39m(\u001B[38;5;124m\"\u001B[39m\u001B[38;5;124mF_gen:\u001B[39m\u001B[38;5;124m\"\u001B[39m, np\u001B[38;5;241m.\u001B[39mcorrcoef(\u001B[43mrating_m1\u001B[49m\u001B[38;5;241m.\u001B[39mloc[rating_m1[\u001B[38;5;124m\"\u001B[39m\u001B[38;5;124mRater\u001B[39m\u001B[38;5;124m\"\u001B[39m] \u001B[38;5;241m==\u001B[39m \u001B[38;5;124m\"\u001B[39m\u001B[38;5;124mR_m1_1\u001B[39m\u001B[38;5;124m\"\u001B[39m][\u001B[38;5;124m\"\u001B[39m\u001B[38;5;124mF_gen\u001B[39m\u001B[38;5;124m\"\u001B[39m], rating_m1\u001B[38;5;241m.\u001B[39mloc[rating_m1[\u001B[38;5;124m\"\u001B[39m\u001B[38;5;124mRater\u001B[39m\u001B[38;5;124m\"\u001B[39m] \u001B[38;5;241m==\u001B[39m \u001B[38;5;124m\"\u001B[39m\u001B[38;5;124mR_m1_2\u001B[39m\u001B[38;5;124m\"\u001B[39m][\u001B[38;5;124m\"\u001B[39m\u001B[38;5;124mF_gen\u001B[39m\u001B[38;5;124m\"\u001B[39m])\u001B[38;5;241m.\u001B[39mravel()[\u001B[38;5;241m1\u001B[39m])\n\u001B[1;32m      5\u001B[0m \u001B[38;5;28mprint\u001B[39m(\u001B[38;5;124m\"\u001B[39m\u001B[38;5;124mF_ag:\u001B[39m\u001B[38;5;124m\"\u001B[39m, np\u001B[38;5;241m.\u001B[39mcorrcoef(rating_m1\u001B[38;5;241m.\u001B[39mloc[rating_m1[\u001B[38;5;124m\"\u001B[39m\u001B[38;5;124mRater\u001B[39m\u001B[38;5;124m\"\u001B[39m] \u001B[38;5;241m==\u001B[39m \u001B[38;5;124m\"\u001B[39m\u001B[38;5;124mR_m1_1\u001B[39m\u001B[38;5;124m\"\u001B[39m][\u001B[38;5;124m\"\u001B[39m\u001B[38;5;124mF_ag\u001B[39m\u001B[38;5;124m\"\u001B[39m], rating_m1\u001B[38;5;241m.\u001B[39mloc[rating_m1[\u001B[38;5;124m\"\u001B[39m\u001B[38;5;124mRater\u001B[39m\u001B[38;5;124m\"\u001B[39m] \u001B[38;5;241m==\u001B[39m \u001B[38;5;124m\"\u001B[39m\u001B[38;5;124mR_m1_2\u001B[39m\u001B[38;5;124m\"\u001B[39m][\u001B[38;5;124m\"\u001B[39m\u001B[38;5;124mF_ag\u001B[39m\u001B[38;5;124m\"\u001B[39m])\u001B[38;5;241m.\u001B[39mravel()[\u001B[38;5;241m1\u001B[39m])\n\u001B[1;32m      6\u001B[0m \u001B[38;5;28mprint\u001B[39m(\u001B[38;5;124m\"\u001B[39m\u001B[38;5;124mF_com:\u001B[39m\u001B[38;5;124m\"\u001B[39m, np\u001B[38;5;241m.\u001B[39mcorrcoef(rating_m1\u001B[38;5;241m.\u001B[39mloc[rating_m1[\u001B[38;5;124m\"\u001B[39m\u001B[38;5;124mRater\u001B[39m\u001B[38;5;124m\"\u001B[39m] \u001B[38;5;241m==\u001B[39m \u001B[38;5;124m\"\u001B[39m\u001B[38;5;124mR_m1_1\u001B[39m\u001B[38;5;124m\"\u001B[39m][\u001B[38;5;124m\"\u001B[39m\u001B[38;5;124mF_com\u001B[39m\u001B[38;5;124m\"\u001B[39m], rating_m1\u001B[38;5;241m.\u001B[39mloc[rating_m1[\u001B[38;5;124m\"\u001B[39m\u001B[38;5;124mRater\u001B[39m\u001B[38;5;124m\"\u001B[39m] \u001B[38;5;241m==\u001B[39m \u001B[38;5;124m\"\u001B[39m\u001B[38;5;124mR_m1_2\u001B[39m\u001B[38;5;124m\"\u001B[39m][\u001B[38;5;124m\"\u001B[39m\u001B[38;5;124mF_com\u001B[39m\u001B[38;5;124m\"\u001B[39m])\u001B[38;5;241m.\u001B[39mravel()[\u001B[38;5;241m1\u001B[39m])\n",
      "\u001B[0;31mNameError\u001B[0m: name 'rating_m1' is not defined"
     ]
    }
   ],
   "execution_count": 13
  },
  {
   "metadata": {},
   "cell_type": "code",
   "outputs": [],
   "execution_count": null,
   "source": [
    "# devide matching into female & male dataframe\n",
    "\n",
    "matching_wom = matching[matching[\"gender\"] == \"f\"]\n",
    "matching_wom = matching_wom.drop([\"code\", \"revcode\", \"gender\"], axis = 1)\n",
    "\n",
    "matching_men = matching[matching[\"gender\"] == \"m\"]\n",
    "matching_men = matching_men.drop([\"code\", \"revcode\", \"gender\"], axis = 1)"
   ],
   "id": "659d7cc02f02bd2a"
  },
  {
   "metadata": {},
   "cell_type": "code",
   "outputs": [],
   "execution_count": null,
   "source": [
    "# create one dataframe each for female & male participants\n",
    "\n",
    "flirting_rat_wom = pd.concat([rating_m1, rating_m2], axis = 0)\n",
    "flirting_rat_men = pd.concat([rating_w1, rating_w2], axis = 0)"
   ],
   "id": "88a00ad070017cb8"
  },
  {
   "metadata": {},
   "cell_type": "code",
   "outputs": [],
   "execution_count": null,
   "source": [
    "# clean dataframes, create rater-means\n",
    "\n",
    "flirting_rat_wom = flirting_rat_wom.drop([\"Rater\"], axis = 1)\n",
    "flirting_rat_wom = flirting_rat_wom.rename(columns = {\"Videos\": \"datecode\"})\n",
    "list_wom = list(x[:-2] for x in flirting_rat_wom[\"datecode\"])\n",
    "list_wom = list(x.replace(\"_\", \"\") for x in list_wom)\n",
    "flirting_rat_wom[\"datecode\"] = list_wom\n",
    "flirting_rat_wom = flirting_rat_wom.groupby(\"datecode\").mean()\n",
    "\n",
    "flirting_rat_men = flirting_rat_men.drop([\"Rater\"], axis = 1)\n",
    "flirting_rat_men = flirting_rat_men.rename(columns = {\"Videos\": \"datecode\"})\n",
    "list_men = list(x[:-2] for x in flirting_rat_men[\"datecode\"])\n",
    "list_men = list(x.replace(\"_\", \"\") for x in list_men)\n",
    "flirting_rat_men[\"datecode\"] = list_men\n",
    "flirting_rat_men = flirting_rat_men.groupby(\"datecode\").mean()"
   ],
   "id": "d69c5952289f5d35"
  },
  {
   "metadata": {},
   "cell_type": "code",
   "outputs": [],
   "execution_count": null,
   "source": [
    "# match id and datecode\n",
    "\n",
    "flirt_wom = pd.merge(flirting_rat_wom, matching_wom, on = [\"datecode\"])\n",
    "flirt_wom = flirt_wom.drop([\"datecode\"], axis = 1)\n",
    "\n",
    "flirt_men = pd.merge(flirting_rat_men, matching_men, on = [\"datecode\"])\n",
    "flirt_men = flirt_men.drop([\"datecode\"], axis = 1)"
   ],
   "id": "dd4bc181f88055ba"
  },
  {
   "metadata": {},
   "cell_type": "code",
   "outputs": [],
   "execution_count": null,
   "source": [
    "# final flirting dataset\n",
    "\n",
    "flirting = pd.concat([flirt_wom, flirt_men], axis = 0)\n",
    "flirting = flirting.rename(columns = {\"user_id\": \"id\", \"partner_id\": \"partnerid\"})\n",
    "\n",
    "\n",
    "# add to predictors\n",
    "\n",
    "df_predictors_fl = df_predictors.merge(flirting, how = \"left\", on = [\"id\", \"partnerid\"])"
   ],
   "id": "fe9f13cd2ed35294"
  },
  {
   "metadata": {},
   "cell_type": "code",
   "outputs": [],
   "execution_count": null,
   "source": [
    "# delete _par-variables, fill NA-values in predictors dataset\n",
    "\n",
    "imputer = SimpleImputer(strategy = \"mean\", missing_values = np.nan)\n",
    "\n",
    "for column in df_predictors_fl:\n",
    "    if column != \"gender_id\":\n",
    "        imputer = imputer.fit(df_predictors_fl[[column]])\n",
    "        df_predictors_fl[column] = imputer.transform(df_predictors_fl[[column]])\n",
    "    if column.endswith(\"_par\"):\n",
    "        df_predictors_fl = df_predictors_fl.drop(columns = column)"
   ],
   "id": "8a30bad5d9240429"
  },
  {
   "metadata": {},
   "cell_type": "code",
   "outputs": [],
   "execution_count": null,
   "source": [
    "# new dataset with calculated mean for att_rating_act & flirting\n",
    "\n",
    "df_predictors_fl = df_predictors_fl.drop([\"partnerid\", \"gender_id\"], axis = 1)\n",
    "predictors_fl = df_predictors_fl.groupby(\"id\").mean()"
   ],
   "id": "ea0afa08216b3839"
  },
  {
   "metadata": {},
   "cell_type": "code",
   "outputs": [],
   "execution_count": null,
   "source": [
    "# descriptive statistics\n",
    "\n",
    "descript_stat = predictors_fl.describe()\n",
    "descript_stat = descript_stat.transpose()\n",
    "descript_stat[\"mean\"] = list(round(x, 2) for x in descript_stat[\"mean\"])\n",
    "descript_stat[\"std\"] = list(round(x, 2) for x in descript_stat[\"std\"])\n",
    "descript_stat.to_excel(\"descript_stat.xlsx\")"
   ],
   "id": "abf1b2b80fdffdd9"
  },
  {
   "metadata": {},
   "cell_type": "markdown",
   "source": "",
   "id": "a03a6bd76c1c79e7"
  },
  {
   "cell_type": "markdown",
   "id": "f0d70746",
   "metadata": {},
   "source": [
    "# Research question 1a"
   ]
  },
  {
   "cell_type": "markdown",
   "id": "44a7da50",
   "metadata": {},
   "source": [
    "How well can partner effects be predicted using a cross-validated machine learning model that is trained on self-reports?"
   ]
  },
  {
   "cell_type": "markdown",
   "id": "b1f3462e",
   "metadata": {},
   "source": [
    "## RQ1a: Random Forest"
   ]
  },
  {
   "cell_type": "code",
   "execution_count": 6,
   "id": "0ad5b787",
   "metadata": {},
   "outputs": [],
   "source": [
    "# define score function: correlation (between the predicted and true value)\n",
    "\n",
    "def correlation(X, y):\n",
    "    x = np.corrcoef(X, y).ravel()\n",
    "    return x[1]\n",
    "\n",
    "corr_score = make_scorer(score_func = correlation, greater_is_better = True)"
   ]
  },
  {
   "cell_type": "code",
   "execution_count": 7,
   "id": "d46e45fc",
   "metadata": {},
   "outputs": [],
   "source": [
    "# create dictionary with parameters for hyperparameter tuning\n",
    "\n",
    "rf_params = {\n",
    "    \"n_estimators\": [25, 50, 100, 200],\n",
    "    \"max_depth\": [1, 10, None],\n",
    "    \"max_features\": [\"sqrt\", \"log2\", 0.1],\n",
    "    \"min_samples_leaf\": [1, 2, 5, 10]\n",
    "}"
   ]
  },
  {
   "cell_type": "code",
   "execution_count": 8,
   "id": "c6c6f9bd",
   "metadata": {},
   "outputs": [
    {
     "name": "stdout",
     "output_type": "stream",
     "text": [
      "Model: Random Forest\n",
      "Correlations (5 outer folds): [0.43121164 0.33697396 0.2779522  0.51904809 0.43702362].\n",
      "Average correlation: 0.4004419038180826\n"
     ]
    }
   ],
   "source": [
    "# Nested cross-validation with hyperparameter tuning for Random Forest\n",
    "\n",
    "# inner cv: find the best hyperparameters\n",
    "rf = GridSearchCV(estimator = RandomForestRegressor(random_state = 42), param_grid = rf_params, \n",
    "                  cv = 5, refit = True, scoring = corr_score)\n",
    "\n",
    "rf.fit(predictors, outcomes)\n",
    "\n",
    "\n",
    "# feature selection\n",
    "\n",
    "selector = RFECV(rf.best_estimator_, cv = 5)\n",
    "selector = selector.fit(predictors, outcomes)\n",
    "\n",
    "selected_pred = predictors\n",
    "selected_pred = selected_pred.loc[:, selected_pred.columns.intersection(np.array(predictors.columns)[selector.support_])]\n",
    "\n",
    "\n",
    "# outer cv: generalization error on the outer splits\n",
    "rf_scores = cross_val_score(rf.best_estimator_, selected_pred, outcomes, cv = 5, \n",
    "                            scoring = corr_score)\n",
    "\n",
    "rf.fit(selected_pred, outcomes)\n",
    "\n",
    "\n",
    "# mean correlation across each of outer_cv's folds\n",
    "rf_average_score = np.mean(rf_scores)\n",
    "error_summary = \"Model: Random Forest\\nCorrelations (5 outer folds): {scores}.\\nAverage correlation: {avg}\"\n",
    "print(error_summary.format(scores = rf_scores, \n",
    "                           avg = rf_average_score))"
   ]
  },
  {
   "cell_type": "code",
   "execution_count": 9,
   "id": "cdfc2579",
   "metadata": {
    "scrolled": true
   },
   "outputs": [
    {
     "data": {
      "text/plain": [
       "[0.43, 0.34, 0.28, 0.52, 0.44]"
      ]
     },
     "execution_count": 9,
     "metadata": {},
     "output_type": "execute_result"
    }
   ],
   "source": [
    "rf_scores = list(round(x, 2) for x in rf_scores)\n",
    "rf_scores"
   ]
  },
  {
   "cell_type": "code",
   "execution_count": 10,
   "id": "292d8df5",
   "metadata": {},
   "outputs": [
    {
     "data": {
      "text/plain": [
       "20"
      ]
     },
     "execution_count": 10,
     "metadata": {},
     "output_type": "execute_result"
    }
   ],
   "source": [
    "# number of included Features\n",
    "\n",
    "len(selected_pred.columns)"
   ]
  },
  {
   "cell_type": "code",
   "execution_count": 11,
   "id": "3be5737b",
   "metadata": {
    "scrolled": true
   },
   "outputs": [
    {
     "data": {
      "text/plain": [
       "{'max_depth': 10,\n",
       " 'max_features': 0.1,\n",
       " 'min_samples_leaf': 5,\n",
       " 'n_estimators': 200}"
      ]
     },
     "execution_count": 11,
     "metadata": {},
     "output_type": "execute_result"
    }
   ],
   "source": [
    "# get best parameters\n",
    "\n",
    "best_params_rf = rf.best_params_\n",
    "best_params_rf"
   ]
  },
  {
   "cell_type": "markdown",
   "id": "b85d0f84",
   "metadata": {},
   "source": ""
  },
  {
   "cell_type": "markdown",
   "id": "7279d472",
   "metadata": {},
   "source": [
    "# Research question 1b"
   ]
  },
  {
   "cell_type": "markdown",
   "id": "d014883a",
   "metadata": {},
   "source": [
    "How well can partner effects be predicted using a cross-validated machine learning model that is trained on self-reports AND flirting behavior?"
   ]
  },
  {
   "cell_type": "markdown",
   "id": "380288b5",
   "metadata": {},
   "source": [
    "### RQ1b: Random Forest with Flirting"
   ]
  },
  {
   "cell_type": "markdown",
   "id": "acc785d0",
   "metadata": {},
   "source": [
    "Calculate the same Random Forest model again, but on an extended set of predictors (self-reports + flirting ratings)"
   ]
  },
  {
   "cell_type": "code",
   "execution_count": 22,
   "id": "0ed8ec3e",
   "metadata": {},
   "outputs": [],
   "source": [
    "# create dictionary with parameters for hyperparameter tuning\n",
    "\n",
    "rf_params = {\n",
    "    \"n_estimators\": [25, 50, 100, 200],\n",
    "    \"max_depth\": [1, 10, None],\n",
    "    \"max_features\": [\"sqrt\", \"log2\", 0.1],\n",
    "    \"min_samples_leaf\": [1, 2, 5, 10]\n",
    "}"
   ]
  },
  {
   "cell_type": "code",
   "execution_count": 23,
   "id": "0f86bd2e",
   "metadata": {},
   "outputs": [
    {
     "name": "stdout",
     "output_type": "stream",
     "text": [
      "Model: Random Forest\n",
      "Correlations (5 outer folds): [0.41088367 0.46226581 0.48945083 0.64444092 0.45780416].\n",
      "Average correlation: 0.4929690763343918\n"
     ]
    }
   ],
   "source": [
    "# Nested cross-validation with hyperparameter tuning for Random Forest\n",
    "\n",
    "# inner cv: find the best hyperparameters\n",
    "rf_fl = GridSearchCV(estimator = RandomForestRegressor(random_state = 42), param_grid = rf_params, \n",
    "                  cv = 5, refit = True, scoring = corr_score)\n",
    "\n",
    "rf_fl.fit(predictors_fl, outcomes)\n",
    "\n",
    "\n",
    "# feature selection\n",
    "\n",
    "selector_fl = RFECV(rf_fl.best_estimator_, cv = 5)\n",
    "selector_fl = selector_fl.fit(predictors_fl, outcomes)\n",
    "\n",
    "selected_pred_fl = predictors_fl\n",
    "selected_pred_fl = selected_pred_fl.loc[:, selected_pred_fl.columns.intersection(np.array(predictors_fl.columns)[selector_fl.support_])]\n",
    "\n",
    "\n",
    "# outer cv: generalization error on the outer splits\n",
    "rf_scores_fl = cross_val_score(rf_fl.best_estimator_, selected_pred_fl, outcomes, cv = 5, \n",
    "                            scoring = corr_score)\n",
    "\n",
    "rf_fl.fit(selected_pred_fl, outcomes)\n",
    "\n",
    "\n",
    "# mean correlation across each of outer_cv's folds\n",
    "rf_average_score_fl = np.mean(rf_scores_fl)\n",
    "error_summary = \"Model: Random Forest\\nCorrelations (5 outer folds): {scores}.\\nAverage correlation: {avg}\"\n",
    "print(error_summary.format(scores = rf_scores_fl, \n",
    "                           avg = rf_average_score_fl))"
   ]
  },
  {
   "cell_type": "code",
   "execution_count": 24,
   "id": "9c5b0084",
   "metadata": {
    "scrolled": true
   },
   "outputs": [
    {
     "data": {
      "text/plain": [
       "[0.41, 0.46, 0.49, 0.64, 0.46]"
      ]
     },
     "execution_count": 24,
     "metadata": {},
     "output_type": "execute_result"
    }
   ],
   "source": [
    "rf_scores_fl = list(round(x, 2) for x in rf_scores_fl)\n",
    "rf_scores_fl"
   ]
  },
  {
   "cell_type": "code",
   "execution_count": 25,
   "id": "7866f7e8",
   "metadata": {},
   "outputs": [
    {
     "data": {
      "text/plain": [
       "12"
      ]
     },
     "execution_count": 25,
     "metadata": {},
     "output_type": "execute_result"
    }
   ],
   "source": [
    "# number of included Features\n",
    "\n",
    "len(selected_pred_fl.columns)"
   ]
  },
  {
   "cell_type": "code",
   "execution_count": 26,
   "id": "af6e4553",
   "metadata": {
    "scrolled": true
   },
   "outputs": [
    {
     "data": {
      "text/plain": [
       "{'max_depth': None,\n",
       " 'max_features': 0.1,\n",
       " 'min_samples_leaf': 1,\n",
       " 'n_estimators': 25}"
      ]
     },
     "execution_count": 26,
     "metadata": {},
     "output_type": "execute_result"
    }
   ],
   "source": [
    "# get best parameters\n",
    "\n",
    "best_params_rf_fl = rf_fl.best_params_\n",
    "best_params_rf_fl"
   ]
  },
  {
   "cell_type": "markdown",
   "id": "af79f4fe",
   "metadata": {},
   "source": [
    " "
   ]
  },
  {
   "cell_type": "markdown",
   "id": "af9a9a53",
   "metadata": {},
   "source": [
    "## RQ1b: t-Test \n",
    "### Comparison of the Random Forest models: Flirting vs. no flirting"
   ]
  },
  {
   "cell_type": "markdown",
   "id": "a39e783a",
   "metadata": {},
   "source": [
    "Does the Random Forest model with flirting behavior as additional predictors significantly perform better/worse than the model without flirting ratings?"
   ]
  },
  {
   "cell_type": "markdown",
   "id": "b1af8f5d",
   "metadata": {},
   "source": [
    "#### Assumptions"
   ]
  },
  {
   "cell_type": "code",
   "execution_count": 27,
   "id": "7fa22d34",
   "metadata": {},
   "outputs": [
    {
     "name": "stdout",
     "output_type": "stream",
     "text": [
      "Random Forest without flirting:\n",
      "ShapiroResult(statistic=0.966947078704834, pvalue=0.8553216457366943)\n",
      "\n",
      "Random Forest with flirting:\n",
      "ShapiroResult(statistic=0.8355451822280884, pvalue=0.1529797613620758)\n",
      "\n",
      "\n",
      "Homogeneity of variances?\n",
      "LeveneResult(statistic=0.13487881981032643, pvalue=0.7229514740359115)\n"
     ]
    }
   ],
   "source": [
    "# Testing the t-Test assumptions\n",
    "\n",
    "# Shapiro-Wilk test for testing if the data was drawn from a normal distribution\n",
    "\n",
    "print(\"Random Forest without flirting:\")\n",
    "print(stats.shapiro(rf_scores))\n",
    "print(\"\\nRandom Forest with flirting:\")    \n",
    "print(stats.shapiro(rf_scores_fl))\n",
    "print(\"\\n\")    \n",
    "\n",
    "\n",
    "# Levene-test for testing if the variances are equal\n",
    "\n",
    "print(\"Homogeneity of variances?\")\n",
    "print(stats.levene(rf_scores_fl, rf_scores))"
   ]
  },
  {
   "cell_type": "markdown",
   "id": "227a8527",
   "metadata": {},
   "source": [
    "#### Comparison (flirting vs. no flirting)"
   ]
  },
  {
   "cell_type": "code",
   "execution_count": 28,
   "id": "f40f3c3d",
   "metadata": {},
   "outputs": [
    {
     "name": "stdout",
     "output_type": "stream",
     "text": [
      "Ttest_indResult(statistic=1.571947490844377, pvalue=0.15460625711999726)\n",
      "\n",
      "\n",
      "The Random Forest models with and without flirting ratings as predictors are NOT significantly different in their performance: p-value = 0.155\n",
      "\n",
      "\n",
      "Random Forest Model without flirting \n",
      "Average correlation:  0.4 \n",
      "Standard deviation:  0.08\n",
      "\n",
      "\n",
      "Random Forest Model with flirting \n",
      "Average correlation:  0.49 \n",
      "Standard deviation:  0.08\n",
      "\n",
      "\n"
     ]
    }
   ],
   "source": [
    "# t-Test to compare the model performances\n",
    "\n",
    "p_value_rf_fl = ttest_ind(rf_scores_fl, rf_scores)\n",
    "print(p_value_rf_fl)\n",
    "print(\"\\n\")    \n",
    "\n",
    "\n",
    "if p_value_rf_fl[1] < 0.05:\n",
    "    print(\"The Random Forest models with and without flirting ratings as predictors ARE significantly different in their performance: p-value =\", round(p_value_rf_fl[1], 3))\n",
    "else:\n",
    "    print(\"The Random Forest models with and without flirting ratings as predictors are NOT significantly different in their performance: p-value =\", round(p_value_rf_fl[1], 3))\n",
    "    \n",
    "print(\"\\n\")    \n",
    "print(\"Random Forest Model without flirting \\nAverage correlation: \", round(rf_average_score, 2), \n",
    "      \"\\nStandard deviation: \", round(np.std(rf_scores), 2))\n",
    "print(\"\\n\")\n",
    "print(\"Random Forest Model with flirting \\nAverage correlation: \", round(rf_average_score_fl, 2), \n",
    "      \"\\nStandard deviation: \", round(np.std(rf_scores_fl), 2))\n",
    "print(\"\\n\")"
   ]
  },
  {
   "cell_type": "markdown",
   "id": "4669d574",
   "metadata": {},
   "source": ""
  },
  {
   "cell_type": "markdown",
   "id": "a6a023d6",
   "metadata": {},
   "source": [
    "# Research question 2"
   ]
  },
  {
   "cell_type": "markdown",
   "id": "247996e5",
   "metadata": {},
   "source": [
    "Do linear or nonlinear machine learning models provide more accurate predictions of partner effects?"
   ]
  },
  {
   "cell_type": "markdown",
   "id": "632a950b",
   "metadata": {},
   "source": [
    "## RQ2: Lasso Regression"
   ]
  },
  {
   "cell_type": "markdown",
   "id": "2b867c0c",
   "metadata": {},
   "source": [
    "Calculate the Lasso Regression model, trained on the extended set of predictors (self-reports + flirting ratings)"
   ]
  },
  {
   "cell_type": "code",
   "execution_count": 29,
   "id": "b0397036",
   "metadata": {},
   "outputs": [],
   "source": [
    "# create dictionary with parameters for hyperparameter tuning\n",
    "\n",
    "lasso_params = {\"alpha\": [0.001, 0.01, 0.1, 1, 10]}"
   ]
  },
  {
   "cell_type": "code",
   "execution_count": 30,
   "id": "0dc749b8",
   "metadata": {
    "scrolled": true
   },
   "outputs": [
    {
     "name": "stdout",
     "output_type": "stream",
     "text": [
      "Model: Lasso\n",
      "Correlations (5 outer folds): [0.37451007 0.29592872 0.26399723 0.65397084 0.37507988].\n",
      "Average correlation: 0.39269734747834384\n"
     ]
    },
    {
     "name": "stderr",
     "output_type": "stream",
     "text": [
      "/Users/kim/opt/anaconda3/lib/python3.9/site-packages/sklearn/model_selection/_search.py:922: UserWarning: One or more of the test scores are non-finite: [0.29117254 0.39269735        nan        nan        nan]\n",
      "  warnings.warn(\n"
     ]
    }
   ],
   "source": [
    "# Nested cross-validation with hyperparameter tuning for Lasso Regression\n",
    "\n",
    "np.seterr(invalid = \"ignore\")\n",
    "\n",
    "# inner cv: find the best hyperparameters\n",
    "lasso_fl = GridSearchCV(estimator = Lasso(normalize = True), param_grid = lasso_params, \n",
    "                                                cv = 5, refit = True, scoring = corr_score)\n",
    "\n",
    "lasso_fl.fit(predictors_fl, outcomes)\n",
    "\n",
    "# outer cv: generalization error on the outer splits\n",
    "lasso_scores_fl = cross_val_score(lasso_fl.best_estimator_, predictors_fl, outcomes, cv = 5, \n",
    "                                     scoring = corr_score)\n",
    "\n",
    "# mean correlation across each of outer_cv's folds\n",
    "lasso_average_score_fl = np.mean(lasso_scores_fl)\n",
    "error_summary = \"Model: Lasso\\nCorrelations (5 outer folds): {scores}.\\nAverage correlation: {avg}\"\n",
    "print(error_summary.format(scores = lasso_scores_fl, \n",
    "                           avg = lasso_average_score_fl))"
   ]
  },
  {
   "cell_type": "code",
   "execution_count": 31,
   "id": "d94f7adb",
   "metadata": {},
   "outputs": [
    {
     "data": {
      "text/plain": [
       "[0.37, 0.3, 0.26, 0.65, 0.38]"
      ]
     },
     "execution_count": 31,
     "metadata": {},
     "output_type": "execute_result"
    }
   ],
   "source": [
    "lasso_scores_fl = list(round(x, 2) for x in lasso_scores_fl)\n",
    "lasso_scores_fl"
   ]
  },
  {
   "cell_type": "code",
   "execution_count": 32,
   "id": "2e33fae2",
   "metadata": {},
   "outputs": [
    {
     "data": {
      "text/plain": [
       "10"
      ]
     },
     "execution_count": 32,
     "metadata": {},
     "output_type": "execute_result"
    }
   ],
   "source": [
    "# number of included Features\n",
    "\n",
    "lasso_Series_fl = pd.Series(lasso_fl.best_estimator_.coef_.squeeze().tolist(), index = predictors_fl.columns)\n",
    "lasso_Series_fl = lasso_Series_fl.sort_values(ascending = True)\n",
    "lasso_Series_fl = lasso_Series_fl[lasso_Series_fl != 0]\n",
    "len(lasso_Series_fl)"
   ]
  },
  {
   "cell_type": "code",
   "execution_count": 33,
   "id": "20d92819",
   "metadata": {},
   "outputs": [
    {
     "data": {
      "text/plain": [
       "{'alpha': 0.01}"
      ]
     },
     "execution_count": 33,
     "metadata": {},
     "output_type": "execute_result"
    }
   ],
   "source": [
    "# get best parameters\n",
    "\n",
    "best_params_lasso_fl = lasso_fl.best_params_\n",
    "best_params_lasso_fl"
   ]
  },
  {
   "cell_type": "markdown",
   "id": "4236c795",
   "metadata": {},
   "source": [
    " "
   ]
  },
  {
   "cell_type": "markdown",
   "id": "735ba37e",
   "metadata": {},
   "source": [
    "## RQ2: Comparison of the models"
   ]
  },
  {
   "cell_type": "markdown",
   "id": "e241a444",
   "metadata": {},
   "source": [
    "### RQ2: t-Test \n",
    "#### Assumptions"
   ]
  },
  {
   "cell_type": "code",
   "execution_count": 34,
   "id": "b627e3ad",
   "metadata": {},
   "outputs": [
    {
     "name": "stdout",
     "output_type": "stream",
     "text": [
      "\n",
      "Lasso Regression:\n",
      "ShapiroResult(statistic=0.8333944082260132, pvalue=0.1474747359752655)\n",
      "\n",
      "\n",
      "Homogeneity of variances?\n",
      "LeveneResult(statistic=0.4793478260869563, pvalue=0.5083119604751156)\n"
     ]
    }
   ],
   "source": [
    "# Testing the t-Test assumptions\n",
    "\n",
    "# Levene-test for testing if the variances are equal\n",
    "\n",
    "print(\"\\nLasso Regression:\")    \n",
    "print(stats.shapiro(lasso_scores_fl))\n",
    "print(\"\\n\")   \n",
    "\n",
    "print(\"Homogeneity of variances?\")\n",
    "print(stats.levene(rf_scores_fl, lasso_scores_fl))"
   ]
  },
  {
   "cell_type": "markdown",
   "id": "777493f4",
   "metadata": {},
   "source": [
    "#### Are the performances of both models (RF & Lasso) different from 0?"
   ]
  },
  {
   "cell_type": "code",
   "execution_count": 35,
   "id": "9f237462",
   "metadata": {},
   "outputs": [
    {
     "name": "stdout",
     "output_type": "stream",
     "text": [
      "Random Forest correlations ARE significantly different from 0: p-value = 0.0002\n",
      "Ttest_1sampResult(statistic=12.561815861228865, pvalue=0.0002311068470383431)\n",
      "\n",
      "\n",
      "Lasso regression correlations ARE significantly different from 0: p-value = 0.005\n",
      "Ttest_1sampResult(statistic=5.746096000960663, pvalue=0.0045466378962238955)\n"
     ]
    }
   ],
   "source": [
    "# Are the correlation significantly different from 0?\n",
    "# t-Test\n",
    "\n",
    "t_test_rf = ttest_1samp(rf_scores_fl, popmean = 0)\n",
    "\n",
    "t_test_lasso = ttest_1samp(lasso_scores_fl, popmean = 0)\n",
    "\n",
    "if t_test_rf[1] < 0.05:\n",
    "    print(\"Random Forest correlations ARE significantly different from 0: p-value =\", round(t_test_rf[1], 4))\n",
    "else: \n",
    "    print(\"Random Forest correlations are NOT significantly different from 0: p-value =\", round(t_test_rf[1], 4))\n",
    "\n",
    "print(t_test_rf)\n",
    "print(\"\\n\")\n",
    "\n",
    "if t_test_lasso[1] < 0.05:\n",
    "    print(\"Lasso regression correlations ARE significantly different from 0: p-value =\", round(t_test_lasso[1], 3))\n",
    "else: \n",
    "    print(\"Lasso regression correlations are NOT significantly different from 0: p-value =\", round(t_test_lasso[1], 3))\n",
    "\n",
    "print(t_test_lasso)"
   ]
  },
  {
   "cell_type": "markdown",
   "id": "3be9e8b8",
   "metadata": {},
   "source": [
    "#### Comparison (Random Forest vs. Lasso Regression)"
   ]
  },
  {
   "cell_type": "code",
   "execution_count": 36,
   "id": "3ed61b7d",
   "metadata": {},
   "outputs": [
    {
     "name": "stdout",
     "output_type": "stream",
     "text": [
      "Lasso_scores & rf_scores are NOT significantly different:\n",
      "Ttest_indResult(statistic=1.2712320904523031, pvalue=0.23935986427586214)\n",
      "\n",
      "\n",
      "Random Forest Model \n",
      "Correlations (5 outer folds):  [0.41, 0.46, 0.49, 0.64, 0.46] \n",
      "Average correlation:  0.49 \n",
      "Standard deviation:  0.08\n",
      "\n",
      "\n",
      "Lasso Regression Model \n",
      "Correlations (5 outer folds):  [0.37, 0.3, 0.26, 0.65, 0.38] \n",
      "Average correlation:  0.39 \n",
      "Standard deviation:  0.14\n"
     ]
    }
   ],
   "source": [
    "# t-Test to compare the model performances\n",
    "\n",
    "p_value = ttest_ind(rf_scores_fl, lasso_scores_fl)\n",
    "\n",
    "if p_value[1] < 0.05:\n",
    "    print(\"Lasso_scores & rf_scores are significantly different: p-value =\", p_value[1])\n",
    "    print(\"Best model: Random Forest\")\n",
    "    print(\"Average correlation: \", rf_average_score_fl)\n",
    "else: \n",
    "    print(\"Lasso_scores & rf_scores are NOT significantly different:\")\n",
    "print(p_value)\n",
    "print(\"\\n\")\n",
    "\n",
    "print(\"Random Forest Model \\nCorrelations (5 outer folds): \", rf_scores_fl,\n",
    "      \"\\nAverage correlation: \", round(rf_average_score_fl, 2), \n",
    "      \"\\nStandard deviation: \", round(np.std(rf_scores_fl), 2))\n",
    "print(\"\\n\")\n",
    "print(\"Lasso Regression Model \\nCorrelations (5 outer folds): \",lasso_scores_fl,\n",
    "      \"\\nAverage correlation: \", round(lasso_average_score_fl, 2), \n",
    "      \"\\nStandard deviation: \", round(np.std(lasso_scores_fl), 2))"
   ]
  },
  {
   "cell_type": "markdown",
   "id": "96d5ef39",
   "metadata": {},
   "source": ""
  },
  {
   "cell_type": "markdown",
   "id": "c60cd4fe",
   "metadata": {},
   "source": [
    "# Research question 3"
   ]
  },
  {
   "cell_type": "markdown",
   "id": "f6f64091",
   "metadata": {},
   "source": [
    "What predictors are the most important in predicting partner effects?"
   ]
  },
  {
   "cell_type": "markdown",
   "id": "ef526a5d",
   "metadata": {},
   "source": [
    "## RQ3: Feature importance"
   ]
  },
  {
   "cell_type": "code",
   "execution_count": 37,
   "id": "0da028ac",
   "metadata": {},
   "outputs": [],
   "source": [
    "# get important features for both models\n",
    "\n",
    "lasso_Series = pd.Series(lasso_fl.best_estimator_.coef_.squeeze().tolist(), index = predictors_fl.columns)\n",
    "lasso_Series = lasso_Series[lasso_Series != 0]\n",
    "\n",
    "forest_importances_in = pd.Series(rf_fl.best_estimator_.feature_importances_, index = selected_pred_fl.columns)\n",
    "\n",
    "\n",
    "# read data (with real variable names)\n",
    "\n",
    "variables = pd.read_excel(\"Variablenübersicht_NSDS_II.xlsx\")\n",
    "variables = variables.drop([\"Construct\", \"recoded?\", \"Variable Name\"], axis = 1)\n",
    "variables = variables.dropna()\n",
    "\n",
    "\n",
    "# dataframe with old variable names\n",
    "\n",
    "real_names_lasso = pd.DataFrame()\n",
    "real_names_lasso[\"Scale Name\"] = list(x.removesuffix(\"_act\") for x in lasso_Series.index)\n",
    "\n",
    "\n",
    "real_names_rf = pd.DataFrame()\n",
    "real_names_rf[\"Scale Name\"] = list(x.removesuffix(\"_act\") for x in forest_importances_in.index)\n",
    "\n",
    "\n",
    "# merge\n",
    "\n",
    "real_names_lasso_in = real_names_lasso.merge(variables, how = \"left\", on = [\"Scale Name\"])\n",
    "real_names_rf_in = real_names_rf.merge(variables, how = \"left\", on = [\"Scale Name\"])\n",
    "\n",
    "\n",
    "# final feature importances\n",
    "\n",
    "lasso_Series = pd.Series((round(x, 3) for x in lasso_Series), index = real_names_lasso_in[\"Scale\"])\n",
    "lasso_Series = lasso_Series.sort_values(ascending = True)\n",
    "\n",
    "forest_importances_in = pd.Series((round(x, 3) for x in forest_importances_in), index = real_names_rf_in[\"Scale\"])\n",
    "forest_importances_in = forest_importances_in[forest_importances_in != 0]\n",
    "forest_importances_in = forest_importances_in.sort_values(ascending = True)"
   ]
  },
  {
   "cell_type": "markdown",
   "id": "b98732bb",
   "metadata": {},
   "source": [
    "### RQ3: Plots for feature importances"
   ]
  },
  {
   "cell_type": "code",
   "execution_count": 38,
   "id": "a03effa7",
   "metadata": {},
   "outputs": [
    {
     "data": {
      "image/png": "[encoded data removed]",
      "text/plain": [
       "<Figure size 720x504 with 1 Axes>"
      ]
     },
     "metadata": {
      "needs_background": "light"
     },
     "output_type": "display_data"
    },
    {
     "data": {
      "image/png": "[encoded data removed]",
      "text/plain": [
       "<Figure size 1152x504 with 1 Axes>"
      ]
     },
     "metadata": {
      "needs_background": "light"
     },
     "output_type": "display_data"
    }
   ],
   "source": [
    "# Top Features for the significantly better regressor\n",
    "\n",
    "if p_value[1] < 0.05:\n",
    "    std = np.std([tree.feature_importances_ for tree in rf_fl.best_estimator_], axis = 0)\n",
    "    fig, ax = plt.subplots(figsize = (8, 7))\n",
    "    fig_rf = forest_importances_in.plot.barh(yerr = std, color = (0.2, 0.4, 0.6, 0.9))\n",
    "    fig_rf.set_ylabel(\"Included Features\")\n",
    "    fig_rf.set_xlabel(\"Feature importance\")\n",
    "    fig_rf.title.set_text(\"Random Forest\")\n",
    "    fig_rf.bar_label(fig_rf.containers[1], padding = 5)\n",
    "    fig_rf.figure.savefig(\"../plots/RF.png\", dpi = 400)\n",
    "        \n",
    "        \n",
    "# if both models aren't significantly different in their performance:\n",
    "\n",
    "else:   \n",
    "    std = np.std([tree.feature_importances_ for tree in rf_fl.best_estimator_], axis = 0)\n",
    "    fig, ax = plt.subplots(figsize = (10, 7))\n",
    "    fig_rf = forest_importances_in.plot.barh(yerr = std, color = (0.2, 0.4, 0.6, 0.9))\n",
    "    fig_rf.set_ylabel(\"Included Features\")\n",
    "    fig_rf.set_xlabel(\"Feature importance\")\n",
    "    fig_rf.title.set_text(\"Random Forest\")\n",
    "    fig_rf.bar_label(fig_rf.containers[1], padding = 5)\n",
    "    fig_rf.figure.savefig(\"../plots/RF.png\", dpi = 400, bbox_inches = \"tight\")\n",
    "    \n",
    "    fig, ax = plt.subplots(figsize = (16, 7))\n",
    "    lasso_Series.plot.barh(ax = ax, color = (0.2, 0.4, 0.6, 0.9))\n",
    "    ax.set_ylabel(\"Included Features\")\n",
    "    ax.set_xlabel(\"Feature importance\")\n",
    "    ax.title.set_text(\"Lasso Regression\")\n",
    "    ax.bar_label(ax.containers[0], padding = 5)\n",
    "    fig.savefig(\"../plots/Lasso.png\", dpi = 400, bbox_inches = \"tight\")"
   ]
  },
  {
   "cell_type": "code",
   "execution_count": null,
   "id": "c7e50ec1",
   "metadata": {},
   "outputs": [],
   "source": []
  }
 ],
 "metadata": {
  "kernelspec": {
   "display_name": "Python 3 (ipykernel)",
   "language": "python",
   "name": "python3"
  },
  "language_info": {
   "codemirror_mode": {
    "name": "ipython",
    "version": 3
   },
   "file_extension": ".py",
   "mimetype": "text/x-python",
   "name": "python",
   "nbconvert_exporter": "python",
   "pygments_lexer": "ipython3",
   "version": "3.9.7"
  }
 },
 "nbformat": 4,
 "nbformat_minor": 5
}
